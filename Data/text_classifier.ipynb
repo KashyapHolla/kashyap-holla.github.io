{
 "cells": [
  {
   "cell_type": "code",
   "execution_count": 1,
   "id": "1500d7b8",
   "metadata": {
    "_cell_guid": "b1076dfc-b9ad-4769-8c92-a6c4dae69d19",
    "_uuid": "8f2839f25d086af736a60e9eeb907d3b93b6e0e5",
    "execution": {
     "iopub.execute_input": "2023-12-04T02:54:08.260071Z",
     "iopub.status.busy": "2023-12-04T02:54:08.259261Z",
     "iopub.status.idle": "2023-12-04T02:54:08.274694Z",
     "shell.execute_reply": "2023-12-04T02:54:08.273490Z"
    },
    "papermill": {
     "duration": 0.028564,
     "end_time": "2023-12-04T02:54:08.277564",
     "exception": false,
     "start_time": "2023-12-04T02:54:08.249000",
     "status": "completed"
    },
    "tags": []
   },
   "outputs": [
    {
     "name": "stdout",
     "output_type": "stream",
     "text": [
      "/kaggle/input/llm-detect-ai-generated-text/sample_submission.csv\n",
      "/kaggle/input/llm-detect-ai-generated-text/train_prompts.csv\n",
      "/kaggle/input/llm-detect-ai-generated-text/test_essays.csv\n",
      "/kaggle/input/llm-detect-ai-generated-text/train_essays.csv\n"
     ]
    }
   ],
   "source": [
    "import os\n",
    "for dirname, _, filenames in os.walk('/kaggle/input'):\n",
    "    for filename in filenames:\n",
    "        print(os.path.join(dirname, filename))"
   ]
  },
  {
   "cell_type": "code",
   "execution_count": 2,
   "id": "8ae086ac",
   "metadata": {
    "execution": {
     "iopub.execute_input": "2023-12-04T02:54:08.296944Z",
     "iopub.status.busy": "2023-12-04T02:54:08.296042Z",
     "iopub.status.idle": "2023-12-04T02:54:17.206918Z",
     "shell.execute_reply": "2023-12-04T02:54:17.205867Z"
    },
    "papermill": {
     "duration": 8.922776,
     "end_time": "2023-12-04T02:54:17.209958",
     "exception": false,
     "start_time": "2023-12-04T02:54:08.287182",
     "status": "completed"
    },
    "tags": []
   },
   "outputs": [],
   "source": [
    "import pandas as pd\n",
    "import numpy as np\n",
    "import nltk\n",
    "import string\n",
    "from sklearn.model_selection import train_test_split\n",
    "from sklearn.feature_extraction.text import CountVectorizer\n",
    "from sklearn.metrics import classification_report\n",
    "\n",
    "# Download necessary NLTK components\n",
    "nltk.download('punkt')\n",
    "nltk.download('stopwords')\n",
    "nltk.download('wordnet')\n",
    "\n",
    "from nltk.corpus import stopwords\n",
    "from nltk.tokenize import word_tokenize\n",
    "from nltk.stem import WordNetLemmatizer"
   ]
  },
  {
   "cell_type": "code",
   "execution_count": 3,
   "id": "827ca120",
   "metadata": {
    "execution": {
     "iopub.execute_input": "2023-12-04T02:54:17.226839Z",
     "iopub.status.busy": "2023-12-04T02:54:17.225714Z",
     "iopub.status.idle": "2023-12-04T02:54:18.741005Z",
     "shell.execute_reply": "2023-12-04T02:54:18.739933Z"
    },
    "papermill": {
     "duration": 1.527063,
     "end_time": "2023-12-04T02:54:18.743962",
     "exception": false,
     "start_time": "2023-12-04T02:54:17.216899",
     "status": "completed"
    },
    "tags": []
   },
   "outputs": [],
   "source": [
    "# Prepare stop words and punctuation lists using NLTK\n",
    "stopwords_list = set(stopwords.words('english'))\n",
    "punctuations_list = set(string.punctuation)\n",
    "lemmatizer = WordNetLemmatizer()"
   ]
  },
  {
   "cell_type": "code",
   "execution_count": 4,
   "id": "c20dc878",
   "metadata": {
    "execution": {
     "iopub.execute_input": "2023-12-04T02:54:18.762939Z",
     "iopub.status.busy": "2023-12-04T02:54:18.762136Z",
     "iopub.status.idle": "2023-12-04T02:57:01.982152Z",
     "shell.execute_reply": "2023-12-04T02:57:01.981052Z"
    },
    "papermill": {
     "duration": 163.232389,
     "end_time": "2023-12-04T02:57:01.985212",
     "exception": false,
     "start_time": "2023-12-04T02:54:18.752823",
     "status": "completed"
    },
    "tags": []
   },
   "outputs": [],
   "source": [
    "def tokenize_essay(essay_text, word_count_needed=False):\n",
    "    # Process NaN values and tokenize text\n",
    "    if isinstance(essay_text, float):\n",
    "        processed_text = essay_text\n",
    "    else:\n",
    "        tokens = word_tokenize(essay_text)\n",
    "        lemmatized_tokens = [lemmatizer.lemmatize(token.lower()) for token in tokens]\n",
    "        filtered_tokens = [token for token in lemmatized_tokens if token not in stopwords_list and token not in punctuations_list]\n",
    "        processed_text = \" \".join(filtered_tokens)\n",
    "\n",
    "    # Return word count if needed\n",
    "    if word_count_needed:\n",
    "        count_of_words = len(filtered_tokens)\n",
    "        return processed_text, count_of_words\n",
    "    else:\n",
    "        return processed_text\n",
    "\n",
    "# Load the dataset\n",
    "essay_data = pd.read_csv(\"../input/llm-detect-ai-generated-text/train_essays.csv\")\n",
    "\n",
    "# Tokenization and text preprocessing\n",
    "essay_data['tokenized_text'], essay_data['word_count'] = zip(*essay_data['text'].apply(tokenize_essay, word_count_needed=True))"
   ]
  },
  {
   "cell_type": "code",
   "execution_count": 5,
   "id": "e7e91b98",
   "metadata": {
    "execution": {
     "iopub.execute_input": "2023-12-04T02:57:02.001995Z",
     "iopub.status.busy": "2023-12-04T02:57:02.001537Z",
     "iopub.status.idle": "2023-12-04T02:57:02.464992Z",
     "shell.execute_reply": "2023-12-04T02:57:02.463740Z"
    },
    "papermill": {
     "duration": 0.475808,
     "end_time": "2023-12-04T02:57:02.468427",
     "exception": false,
     "start_time": "2023-12-04T02:57:01.992619",
     "status": "completed"
    },
    "tags": []
   },
   "outputs": [],
   "source": [
    "# Construct a word vector matrix and vocabulary list\n",
    "vectorizer = CountVectorizer()\n",
    "X_matrix = vectorizer.fit_transform(essay_data['tokenized_text'])\n",
    "vocabulary = vectorizer.get_feature_names_out()\n",
    "\n",
    "# Filter out rare words that occur less than five times\n",
    "word_counts = X_matrix.sum(axis=0).A1  # Convert from matrix to array\n",
    "min_occurrences = 5\n",
    "filtered_vocab_indices = np.where(word_counts >= min_occurrences)[0]\n",
    "filtered_vocab = np.array(vocabulary)[filtered_vocab_indices]\n",
    "\n",
    "# Create a reverse index for the filtered vocabulary\n",
    "reverse_index = {word: idx for idx, word in enumerate(filtered_vocab)}"
   ]
  },
  {
   "cell_type": "code",
   "execution_count": 6,
   "id": "0d6fdc26",
   "metadata": {
    "execution": {
     "iopub.execute_input": "2023-12-04T02:57:02.484923Z",
     "iopub.status.busy": "2023-12-04T02:57:02.484475Z",
     "iopub.status.idle": "2023-12-04T02:57:02.516381Z",
     "shell.execute_reply": "2023-12-04T02:57:02.514877Z"
    },
    "papermill": {
     "duration": 0.04398,
     "end_time": "2023-12-04T02:57:02.519657",
     "exception": false,
     "start_time": "2023-12-04T02:57:02.475677",
     "status": "completed"
    },
    "tags": []
   },
   "outputs": [],
   "source": [
    "# Compute probabilities of word occurrences for the filtered vocabulary\n",
    "total_docs = len(essay_data)\n",
    "prob_of_word_occurrence = {word: word_counts[reverse_index[word]] / total_docs for word in filtered_vocab}\n",
    "\n",
    "# Define indices for each class (LLM or Human)\n",
    "indices_of_llm = essay_data[essay_data['generated'] == 1].index\n",
    "indices_of_human = essay_data[essay_data['generated'] == 0].index\n",
    "\n",
    "# Calculate class-based probabilities for the filtered vocabulary\n",
    "X_filtered = X_matrix[:, filtered_vocab_indices]\n",
    "\n",
    "llm_word_occurrences = X_filtered[indices_of_llm].sum(axis=0).A1\n",
    "human_word_occurrences = X_filtered[indices_of_human].sum(axis=0).A1\n",
    "\n",
    "llm_probabilities = {word: llm_word_occurrences[reverse_index[word]] / len(indices_of_llm) for word in filtered_vocab}\n",
    "human_probabilities = {word: human_word_occurrences[reverse_index[word]] / len(indices_of_human) for word in filtered_vocab}"
   ]
  },
  {
   "cell_type": "code",
   "execution_count": 7,
   "id": "55da2c34",
   "metadata": {
    "execution": {
     "iopub.execute_input": "2023-12-04T02:57:02.536121Z",
     "iopub.status.busy": "2023-12-04T02:57:02.535653Z",
     "iopub.status.idle": "2023-12-04T02:57:02.552824Z",
     "shell.execute_reply": "2023-12-04T02:57:02.551887Z"
    },
    "papermill": {
     "duration": 0.028488,
     "end_time": "2023-12-04T02:57:02.555435",
     "exception": false,
     "start_time": "2023-12-04T02:57:02.526947",
     "status": "completed"
    },
    "tags": []
   },
   "outputs": [],
   "source": [
    "class BayesianTextClassifier:\n",
    "    def __init__(self, alpha=1):\n",
    "        self.alpha = alpha\n",
    "        self.class_probs = None\n",
    "        self.word_probs = None\n",
    "\n",
    "    def fit(self, X, y):\n",
    "        num_docs, vocab_size = X.shape\n",
    "        unique_classes = np.unique(y)\n",
    "        num_classes = len(unique_classes)\n",
    "\n",
    "        # Calculate class probabilities\n",
    "        self.class_probs = np.zeros(num_classes)\n",
    "        for i, c in enumerate(unique_classes):\n",
    "            self.class_probs[i] = np.sum(y == c) / num_docs\n",
    "\n",
    "        # Calculate word probabilities with Laplace smoothing\n",
    "        self.word_probs = np.zeros((num_classes, vocab_size))\n",
    "        for i, c in enumerate(unique_classes):\n",
    "            class_docs = X[y == c]\n",
    "            total_words_in_class = np.sum(class_docs)\n",
    "            self.word_probs[i] = (np.sum(class_docs, axis=0) + self.alpha) / (total_words_in_class + self.alpha * vocab_size)\n",
    "\n",
    "            \n",
    "    def predict_proba(self, X):\n",
    "        num_docs, _ = X.shape\n",
    "        num_classes, vocab_size = self.word_probs.shape\n",
    "\n",
    "        # Use log probabilities to avoid underflow\n",
    "        log_class_probs = np.log(self.class_probs)\n",
    "        log_word_probs = np.log(self.word_probs)\n",
    "\n",
    "        # Calculate log likelihoods for each class\n",
    "        log_likelihoods = np.zeros((num_docs, num_classes))\n",
    "        for i in range(num_docs):\n",
    "            doc = X[i].toarray().flatten()  # Convert the sparse matrix to a dense array\n",
    "            log_likelihoods[i] = np.sum(log_word_probs * doc, axis=1) + log_class_probs\n",
    "\n",
    "        # Convert log likelihoods to probabilities using softmax\n",
    "        exp_log_likelihoods = np.exp(log_likelihoods - np.max(log_likelihoods, axis=1, keepdims=True))\n",
    "        probabilities = exp_log_likelihoods / np.sum(exp_log_likelihoods, axis=1, keepdims=True)\n",
    "\n",
    "        return probabilities        \n",
    "    \n",
    "    def predict(self, X):\n",
    "        num_docs, _ = X.shape\n",
    "        num_classes, vocab_size = self.word_probs.shape\n",
    "\n",
    "        # Use log probabilities to avoid underflow\n",
    "        log_class_probs = np.log(self.class_probs)\n",
    "        log_word_probs = np.log(self.word_probs)\n",
    "\n",
    "        # Calculate log likelihoods for each class\n",
    "        log_likelihoods = np.zeros((num_docs, num_classes))\n",
    "        for i in range(num_docs):\n",
    "            doc = X[i].toarray().flatten()  # Convert the sparse matrix to a dense array\n",
    "            log_likelihoods[i] = np.sum(log_word_probs * doc, axis=1) + log_class_probs\n",
    "\n",
    "        # Predict the class with the highest log likelihood\n",
    "        predictions = np.argmax(log_likelihoods, axis=1)\n",
    "        return predictions"
   ]
  },
  {
   "cell_type": "code",
   "execution_count": 8,
   "id": "9b3040a0",
   "metadata": {
    "execution": {
     "iopub.execute_input": "2023-12-04T02:57:02.573842Z",
     "iopub.status.busy": "2023-12-04T02:57:02.572798Z",
     "iopub.status.idle": "2023-12-04T02:57:02.581346Z",
     "shell.execute_reply": "2023-12-04T02:57:02.579904Z"
    },
    "papermill": {
     "duration": 0.020994,
     "end_time": "2023-12-04T02:57:02.584237",
     "exception": false,
     "start_time": "2023-12-04T02:57:02.563243",
     "status": "completed"
    },
    "tags": []
   },
   "outputs": [],
   "source": [
    "# Split dataset\n",
    "X_train, X_test, y_train, y_test = train_test_split(X_matrix, essay_data['generated'], test_size=0.2, random_state=42)"
   ]
  },
  {
   "cell_type": "code",
   "execution_count": 9,
   "id": "ed2fc3ce",
   "metadata": {
    "execution": {
     "iopub.execute_input": "2023-12-04T02:57:02.601628Z",
     "iopub.status.busy": "2023-12-04T02:57:02.600555Z",
     "iopub.status.idle": "2023-12-04T02:57:02.612056Z",
     "shell.execute_reply": "2023-12-04T02:57:02.610646Z"
    },
    "papermill": {
     "duration": 0.023124,
     "end_time": "2023-12-04T02:57:02.615063",
     "exception": false,
     "start_time": "2023-12-04T02:57:02.591939",
     "status": "completed"
    },
    "tags": []
   },
   "outputs": [],
   "source": [
    "# Initialize and train classifier\n",
    "alpha_value = 1\n",
    "bayesian_classifier = BayesianTextClassifier(alpha=alpha_value)\n",
    "bayesian_classifier.fit(X_train, y_train)"
   ]
  },
  {
   "cell_type": "code",
   "execution_count": 10,
   "id": "f22f5312",
   "metadata": {
    "execution": {
     "iopub.execute_input": "2023-12-04T02:57:02.631088Z",
     "iopub.status.busy": "2023-12-04T02:57:02.630640Z",
     "iopub.status.idle": "2023-12-04T02:57:02.725422Z",
     "shell.execute_reply": "2023-12-04T02:57:02.723489Z"
    },
    "papermill": {
     "duration": 0.106743,
     "end_time": "2023-12-04T02:57:02.728930",
     "exception": false,
     "start_time": "2023-12-04T02:57:02.622187",
     "status": "completed"
    },
    "tags": []
   },
   "outputs": [
    {
     "name": "stdout",
     "output_type": "stream",
     "text": [
      "Classification Report:\n",
      "              precision    recall  f1-score   support\n",
      "\n",
      "           0       1.00      0.98      0.99       275\n",
      "           1       0.00      0.00      0.00         1\n",
      "\n",
      "    accuracy                           0.98       276\n",
      "   macro avg       0.50      0.49      0.49       276\n",
      "weighted avg       0.99      0.98      0.99       276\n",
      "\n"
     ]
    }
   ],
   "source": [
    "# Predictions and evaluation\n",
    "predictions = bayesian_classifier.predict(X_test)\n",
    "print(\"Classification Report:\")\n",
    "print(classification_report(y_test, predictions))"
   ]
  },
  {
   "cell_type": "code",
   "execution_count": 11,
   "id": "9f97c2a5",
   "metadata": {
    "execution": {
     "iopub.execute_input": "2023-12-04T02:57:02.745116Z",
     "iopub.status.busy": "2023-12-04T02:57:02.744619Z",
     "iopub.status.idle": "2023-12-04T02:57:03.120228Z",
     "shell.execute_reply": "2023-12-04T02:57:03.118051Z"
    },
    "papermill": {
     "duration": 0.387448,
     "end_time": "2023-12-04T02:57:03.123422",
     "exception": false,
     "start_time": "2023-12-04T02:57:02.735974",
     "status": "completed"
    },
    "tags": []
   },
   "outputs": [
    {
     "name": "stdout",
     "output_type": "stream",
     "text": [
      "Accuracy with alpha=0.1: 0.9746376811594203\n",
      "Accuracy with alpha=0.5: 0.9782608695652174\n",
      "Accuracy with alpha=1: 0.9782608695652174\n",
      "Accuracy with alpha=2: 0.9818840579710145\n",
      "Accuracy with alpha=5: 0.9927536231884058\n"
     ]
    }
   ],
   "source": [
    "# Experiment with different smoothing values\n",
    "smoothing_values = [0.1, 0.5, 1, 2, 5]\n",
    "for alpha in smoothing_values:\n",
    "    classifier_with_smoothing = BayesianTextClassifier(alpha=alpha)\n",
    "    classifier_with_smoothing.fit(X_train, y_train)\n",
    "    preds_with_smoothing = classifier_with_smoothing.predict(X_test)\n",
    "    accuracy = np.mean(preds_with_smoothing == y_test)\n",
    "    print(f\"Accuracy with alpha={alpha}: {accuracy}\")"
   ]
  },
  {
   "cell_type": "code",
   "execution_count": 12,
   "id": "8a0ea25a",
   "metadata": {
    "execution": {
     "iopub.execute_input": "2023-12-04T02:57:03.140279Z",
     "iopub.status.busy": "2023-12-04T02:57:03.139874Z",
     "iopub.status.idle": "2023-12-04T02:57:03.149988Z",
     "shell.execute_reply": "2023-12-04T02:57:03.148480Z"
    },
    "papermill": {
     "duration": 0.021938,
     "end_time": "2023-12-04T02:57:03.152701",
     "exception": false,
     "start_time": "2023-12-04T02:57:03.130763",
     "status": "completed"
    },
    "tags": []
   },
   "outputs": [],
   "source": [
    "# Assuming `llm_probabilities` and `human_probabilities` are now dictionaries with filtered vocab\n",
    "top_llm_words = sorted(llm_probabilities, key=llm_probabilities.get, reverse=True)[:10]\n",
    "top_human_words = sorted(human_probabilities, key=human_probabilities.get, reverse=True)[:10]"
   ]
  },
  {
   "cell_type": "code",
   "execution_count": 13,
   "id": "745a9170",
   "metadata": {
    "execution": {
     "iopub.execute_input": "2023-12-04T02:57:03.169798Z",
     "iopub.status.busy": "2023-12-04T02:57:03.169377Z",
     "iopub.status.idle": "2023-12-04T02:57:03.176305Z",
     "shell.execute_reply": "2023-12-04T02:57:03.174664Z"
    },
    "papermill": {
     "duration": 0.018906,
     "end_time": "2023-12-04T02:57:03.179125",
     "exception": false,
     "start_time": "2023-12-04T02:57:03.160219",
     "status": "completed"
    },
    "tags": []
   },
   "outputs": [
    {
     "name": "stdout",
     "output_type": "stream",
     "text": [
      "Top words for LLM class:\n",
      "['vote', 'state', 'electoral', 'college', 'win', 'candidate', 'car', 'elector', 'president', 'citizen']\n",
      "Top words for Human class:\n",
      "['car', 'vote', 'electoral', 'people', 'college', 'state', 'president', 'use', 'elector', 'candidate']\n"
     ]
    }
   ],
   "source": [
    "print(\"Top words for LLM class:\")\n",
    "print(top_llm_words)\n",
    "\n",
    "print(\"Top words for Human class:\")\n",
    "print(top_human_words)"
   ]
  },
  {
   "cell_type": "code",
   "execution_count": 14,
   "id": "8e493c2e",
   "metadata": {
    "execution": {
     "iopub.execute_input": "2023-12-04T02:57:03.195701Z",
     "iopub.status.busy": "2023-12-04T02:57:03.195213Z",
     "iopub.status.idle": "2023-12-04T02:57:03.964028Z",
     "shell.execute_reply": "2023-12-04T02:57:03.962486Z"
    },
    "papermill": {
     "duration": 0.780777,
     "end_time": "2023-12-04T02:57:03.967136",
     "exception": false,
     "start_time": "2023-12-04T02:57:03.186359",
     "status": "completed"
    },
    "tags": []
   },
   "outputs": [
    {
     "data": {
      "image/png": "[encoded data removed]",
      "text/plain": [
       "<Figure size 1000x1000 with 2 Axes>"
      ]
     },
     "metadata": {},
     "output_type": "display_data"
    }
   ],
   "source": [
    "import matplotlib.pyplot as plt\n",
    "# Assuming `llm_probabilities` and `human_probabilities` are now dictionaries with filtered vocab\n",
    "# and you have identified the top words for each class in `top_llm_words` and `top_human_words`\n",
    "top_llm_words_sorted = {word: llm_probabilities[word] for word in top_llm_words}\n",
    "top_human_words_sorted = {word: human_probabilities[word] for word in top_human_words}\n",
    "\n",
    "# Create bar charts using matplotlib\n",
    "fig, axes = plt.subplots(2, 1, figsize=(10, 10))\n",
    "\n",
    "# Bar chart for LLM words\n",
    "axes[0].bar(top_llm_words_sorted.keys(), top_llm_words_sorted.values(), color='skyblue')\n",
    "axes[0].set_title('Top 10 words predicting LLM')\n",
    "axes[0].set_ylabel('Probability')\n",
    "\n",
    "# Bar chart for Human words\n",
    "axes[1].bar(top_human_words_sorted.keys(), top_human_words_sorted.values(), color='lightgreen')\n",
    "axes[1].set_title('Top 10 words predicting Human')\n",
    "axes[1].set_ylabel('Probability')\n",
    "\n",
    "# Add some spacing between the charts\n",
    "plt.tight_layout(pad=3.0)\n",
    "\n",
    "# Show the plots\n",
    "plt.show()\n"
   ]
  },
  {
   "cell_type": "code",
   "execution_count": 15,
   "id": "c59396dd",
   "metadata": {
    "execution": {
     "iopub.execute_input": "2023-12-04T02:57:03.985495Z",
     "iopub.status.busy": "2023-12-04T02:57:03.985012Z",
     "iopub.status.idle": "2023-12-04T02:57:04.034802Z",
     "shell.execute_reply": "2023-12-04T02:57:04.033377Z"
    },
    "papermill": {
     "duration": 0.06218,
     "end_time": "2023-12-04T02:57:04.037717",
     "exception": false,
     "start_time": "2023-12-04T02:57:03.975537",
     "status": "completed"
    },
    "tags": []
   },
   "outputs": [],
   "source": [
    "# Load the test dataset (make sure the path is correct)\n",
    "test_data = pd.read_csv(\"../input/llm-detect-ai-generated-text/test_essays.csv\")\n",
    "\n",
    "# Tokenize the essays in the test dataset\n",
    "test_data['tokenized_text'] = test_data['text'].apply(tokenize_essay)\n",
    "\n",
    "# Transform the tokenized essays into a matrix of token counts\n",
    "X_test_matrix = vectorizer.transform(test_data['tokenized_text'])\n",
    "\n",
    "# Generate the probability predictions\n",
    "predictions_proba = bayesian_classifier.predict_proba(X_test_matrix)\n",
    "\n",
    "# Create the submission DataFrame\n",
    "submission_df = pd.DataFrame({\n",
    "    'id': test_data['id'],  # Use the correct ID column name as per your test_data\n",
    "    'generated': predictions_proba[:, 1]  # Assuming the second column is the predicted probabilities\n",
    "})\n",
    "\n",
    "# Save the submission file\n",
    "submission_df.to_csv('submission.csv', index=False)"
   ]
  },
  {
   "cell_type": "code",
   "execution_count": 16,
   "id": "e7b2efa6",
   "metadata": {
    "execution": {
     "iopub.execute_input": "2023-12-04T02:57:04.056215Z",
     "iopub.status.busy": "2023-12-04T02:57:04.055697Z",
     "iopub.status.idle": "2023-12-04T02:57:04.075084Z",
     "shell.execute_reply": "2023-12-04T02:57:04.073510Z"
    },
    "papermill": {
     "duration": 0.032105,
     "end_time": "2023-12-04T02:57:04.078027",
     "exception": false,
     "start_time": "2023-12-04T02:57:04.045922",
     "status": "completed"
    },
    "tags": []
   },
   "outputs": [
    {
     "data": {
      "text/html": [
       "<div>\n",
       "<style scoped>\n",
       "    .dataframe tbody tr th:only-of-type {\n",
       "        vertical-align: middle;\n",
       "    }\n",
       "\n",
       "    .dataframe tbody tr th {\n",
       "        vertical-align: top;\n",
       "    }\n",
       "\n",
       "    .dataframe thead th {\n",
       "        text-align: right;\n",
       "    }\n",
       "</style>\n",
       "<table border=\"1\" class=\"dataframe\">\n",
       "  <thead>\n",
       "    <tr style=\"text-align: right;\">\n",
       "      <th></th>\n",
       "      <th>id</th>\n",
       "      <th>generated</th>\n",
       "    </tr>\n",
       "  </thead>\n",
       "  <tbody>\n",
       "    <tr>\n",
       "      <th>0</th>\n",
       "      <td>0000aaaa</td>\n",
       "      <td>0.001815</td>\n",
       "    </tr>\n",
       "    <tr>\n",
       "      <th>1</th>\n",
       "      <td>1111bbbb</td>\n",
       "      <td>0.001815</td>\n",
       "    </tr>\n",
       "    <tr>\n",
       "      <th>2</th>\n",
       "      <td>2222cccc</td>\n",
       "      <td>0.001815</td>\n",
       "    </tr>\n",
       "  </tbody>\n",
       "</table>\n",
       "</div>"
      ],
      "text/plain": [
       "         id  generated\n",
       "0  0000aaaa   0.001815\n",
       "1  1111bbbb   0.001815\n",
       "2  2222cccc   0.001815"
      ]
     },
     "execution_count": 16,
     "metadata": {},
     "output_type": "execute_result"
    }
   ],
   "source": [
    "submission_df.head()"
   ]
  },
  {
   "cell_type": "code",
   "execution_count": 17,
   "id": "d130c397",
   "metadata": {
    "execution": {
     "iopub.execute_input": "2023-12-04T02:57:04.095997Z",
     "iopub.status.busy": "2023-12-04T02:57:04.095526Z",
     "iopub.status.idle": "2023-12-04T02:57:04.123782Z",
     "shell.execute_reply": "2023-12-04T02:57:04.121805Z"
    },
    "papermill": {
     "duration": 0.040542,
     "end_time": "2023-12-04T02:57:04.126526",
     "exception": false,
     "start_time": "2023-12-04T02:57:04.085984",
     "status": "completed"
    },
    "tags": []
   },
   "outputs": [
    {
     "name": "stdout",
     "output_type": "stream",
     "text": [
      "<class 'pandas.core.frame.DataFrame'>\n",
      "RangeIndex: 3 entries, 0 to 2\n",
      "Data columns (total 2 columns):\n",
      " #   Column     Non-Null Count  Dtype  \n",
      "---  ------     --------------  -----  \n",
      " 0   id         3 non-null      object \n",
      " 1   generated  3 non-null      float64\n",
      "dtypes: float64(1), object(1)\n",
      "memory usage: 176.0+ bytes\n"
     ]
    }
   ],
   "source": [
    "submission_df.info()"
   ]
  }
 ],
 "metadata": {
  "kaggle": {
   "accelerator": "none",
   "dataSources": [
    {
     "databundleVersionId": 6888007,
     "sourceId": 61542,
     "sourceType": "competition"
    }
   ],
   "dockerImageVersionId": 30587,
   "isGpuEnabled": false,
   "isInternetEnabled": false,
   "language": "python",
   "sourceType": "notebook"
  },
  "kernelspec": {
   "display_name": "Python 3",
   "language": "python",
   "name": "python3"
  },
  "language_info": {
   "codemirror_mode": {
    "name": "ipython",
    "version": 3
   },
   "file_extension": ".py",
   "mimetype": "text/x-python",
   "name": "python",
   "nbconvert_exporter": "python",
   "pygments_lexer": "ipython3",
   "version": "3.10.12"
  },
  "papermill": {
   "default_parameters": {},
   "duration": 181.531922,
   "end_time": "2023-12-04T02:57:05.964732",
   "environment_variables": {},
   "exception": null,
   "input_path": "__notebook__.ipynb",
   "output_path": "__notebook__.ipynb",
   "parameters": {},
   "start_time": "2023-12-04T02:54:04.432810",
   "version": "2.4.0"
  }
 },
 "nbformat": 4,
 "nbformat_minor": 5
}
